{
 "cells": [
  {
   "cell_type": "code",
   "execution_count": 1,
   "metadata": {},
   "outputs": [
    {
     "data": {
      "text/plain": [
       "((381, 678, 3), (381, 678, 3), (381, 678, 3))"
      ]
     },
     "execution_count": 1,
     "metadata": {},
     "output_type": "execute_result"
    }
   ],
   "source": [
    "import numpy as np\n",
    "import cv2 \n",
    "\n",
    "green_background = cv2.imread('./images/GreenBackground.png')\n",
    "green_background = cv2.resize(green_background, (678 , 381))\n",
    "\n",
    "new_background = cv2.imread('./images/NewBackground.jpg')\n",
    "new_background = cv2.resize(new_background, (678 , 381))\n",
    "\n",
    "object_image = cv2.imread('./images/Object.png')\n",
    "object_image = cv2.resize(object_image, (678 , 381))\n",
    "\n",
    "green_background.shape, new_background.shape, object_image.shape"
   ]
  },
  {
   "cell_type": "code",
   "execution_count": null,
   "metadata": {},
   "outputs": [],
   "source": [
    "def compute_differernce(img1, img2):\n",
    "\n",
    "    result = img1 - img2\n",
    "\n",
    "    return result\n",
    "\n",
    "diff_img = compute_differernce(object_image, green_background)\n",
    "cv2.imshow('Image', object_image)"
   ]
  },
  {
   "cell_type": "code",
   "execution_count": null,
   "metadata": {},
   "outputs": [],
   "source": []
  }
 ],
 "metadata": {
  "kernelspec": {
   "display_name": "test",
   "language": "python",
   "name": "python3"
  },
  "language_info": {
   "codemirror_mode": {
    "name": "ipython",
    "version": 3
   },
   "file_extension": ".py",
   "mimetype": "text/x-python",
   "name": "python",
   "nbconvert_exporter": "python",
   "pygments_lexer": "ipython3",
   "version": "3.9.18"
  }
 },
 "nbformat": 4,
 "nbformat_minor": 2
}
