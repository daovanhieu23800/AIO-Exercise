{
 "cells": [
  {
   "cell_type": "code",
   "execution_count": 2,
   "metadata": {},
   "outputs": [],
   "source": [
    "import numpy as np"
   ]
  },
  {
   "cell_type": "code",
   "execution_count": 3,
   "metadata": {},
   "outputs": [
    {
     "name": "stdout",
     "output_type": "stream",
     "text": [
      "3.7416573867739413\n"
     ]
    }
   ],
   "source": [
    "##Calculate vector length\n",
    "\n",
    "def compute_vector_length(vector):\n",
    "    \n",
    "    len_of_vector = np.sqrt(np.sum(vector**2)) \n",
    "    \n",
    "    return len_of_vector\n",
    "\n",
    "print(compute_vector_length(np.array([1,2,3])))"
   ]
  },
  {
   "cell_type": "code",
   "execution_count": 4,
   "metadata": {},
   "outputs": [
    {
     "name": "stdout",
     "output_type": "stream",
     "text": [
      "14\n"
     ]
    }
   ],
   "source": [
    "def compute_dot_product(vector1, vector2):\n",
    "    \n",
    "    result = np.sum(vector1*vector2)\n",
    "    \n",
    "    return result\n",
    "\n",
    "print(compute_dot_product(np.array([1,2,3]),  np.array([1,2,3])))"
   ]
  },
  {
   "cell_type": "code",
   "execution_count": 5,
   "metadata": {},
   "outputs": [
    {
     "name": "stdout",
     "output_type": "stream",
     "text": [
      "[14 14]\n"
     ]
    }
   ],
   "source": [
    "def matrix_multi_matrix(matrix1, matrix2):\n",
    "    \n",
    "    result = np.matmul(matrix1 , matrix2)\n",
    "    \n",
    "    return result\n",
    "\n",
    "print(matrix_multi_matrix(np.array([[1,2,3], [1,2,3]]),  np.array([1,2,3])))"
   ]
  },
  {
   "cell_type": "code",
   "execution_count": 6,
   "metadata": {},
   "outputs": [
    {
     "name": "stdout",
     "output_type": "stream",
     "text": [
      "[[0.1  0.15]\n",
      " [0.2  0.05]]\n"
     ]
    }
   ],
   "source": [
    "def inverse_matrix(matrix):\n",
    "    result = np.linalg.inv(matrix)\n",
    "    return result\n",
    "\n",
    "print(inverse_matrix(np.array([[-2,6], [8,-4]])))"
   ]
  },
  {
   "cell_type": "code",
   "execution_count": 10,
   "metadata": {},
   "outputs": [
    {
     "name": "stdout",
     "output_type": "stream",
     "text": [
      "(array([1. , 0.7]), array([[ 0.89442719, -0.70710678],\n",
      "       [ 0.4472136 ,  0.70710678]]))\n"
     ]
    }
   ],
   "source": [
    "def compute_eigenvalues_eigenvectors(matrix):\n",
    "    eigenvalues , eigenvectors = np.linalg.eig(matrix)\n",
    "    return eigenvalues , eigenvectors\n",
    "\n",
    "print(compute_eigenvalues_eigenvectors(np.array([[0.9,0.2], [0.1,0.8]])))"
   ]
  },
  {
   "cell_type": "code",
   "execution_count": 13,
   "metadata": {},
   "outputs": [
    {
     "name": "stdout",
     "output_type": "stream",
     "text": [
      "0.5773502691896257\n"
     ]
    }
   ],
   "source": [
    "def consine_similarity(vec1, vec2):\n",
    "    result = np.dot(vec1,vec2)/(np.linalg.norm(vec1)*np.linalg.norm(vec2))\n",
    "    return result\n",
    "\n",
    "print(consine_similarity(\n",
    "    np.array([1 , 2 , 3 , 4]), \n",
    "    np.array([1 , 0 , 3 , 0])\n",
    "    )\n",
    "    )"
   ]
  },
  {
   "cell_type": "code",
   "execution_count": null,
   "metadata": {},
   "outputs": [],
   "source": []
  }
 ],
 "metadata": {
  "kernelspec": {
   "display_name": "hieu",
   "language": "python",
   "name": "python3"
  },
  "language_info": {
   "codemirror_mode": {
    "name": "ipython",
    "version": 3
   },
   "file_extension": ".py",
   "mimetype": "text/x-python",
   "name": "python",
   "nbconvert_exporter": "python",
   "pygments_lexer": "ipython3",
   "version": "3.12.3"
  }
 },
 "nbformat": 4,
 "nbformat_minor": 2
}
