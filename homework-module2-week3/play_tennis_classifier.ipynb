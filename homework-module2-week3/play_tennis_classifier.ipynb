{
 "cells": [
  {
   "cell_type": "code",
   "execution_count": 77,
   "metadata": {},
   "outputs": [
    {
     "name": "stdout",
     "output_type": "stream",
     "text": [
      "P(play tennis = No) 0.4\n",
      "P(play tennis = Yes) 0.6\n"
     ]
    }
   ],
   "source": [
    "import numpy as np\n",
    "\n",
    "def create_train_data():\n",
    "    data = [\n",
    "        ['Sunny', 'Hot', 'High', 'Weak', 'no'],\n",
    "        ['Sunny', 'Hot', 'High', 'Strong', 'no'],\n",
    "        ['Overcast', 'Hot', 'High', 'Weak', 'yes'],\n",
    "        ['Rain', 'Mild', 'High', 'Weak', 'yes'],\n",
    "        ['Rain', 'Cool', 'Normal', 'Weak', 'yes'],\n",
    "        ['Rain', 'Cool', 'Normal', 'Strong', 'no'],\n",
    "        ['Overcast', 'Cool', 'Normal', 'Strong', 'yes'],\n",
    "        ['Overcast', 'Mild', 'High', 'Weak', 'no'],\n",
    "        ['Sunny', 'Cool', 'Normal', 'Weak', 'yes'],\n",
    "        ['Rain', 'Mild', 'Normal', 'Weak', 'yes']\n",
    "    ]\n",
    "    return np.array(data)\n",
    "\n",
    "def compute_prior_probability(train_data):\n",
    "    y_unique = ['no', 'yes']\n",
    "    prior_probability = np.zeros(len(y_unique))\n",
    "    total_samples = len(train_data)\n",
    "\n",
    "    # Counting the occurrences of each class label\n",
    "    for row in train_data:\n",
    "        if row[-1] == y_unique[0]:\n",
    "            prior_probability[0] += 1\n",
    "        elif row[-1] == y_unique[1]:\n",
    "            prior_probability[1] += 1\n",
    "\n",
    "    # Calculating prior probabilities\n",
    "    prior_probability = prior_probability / total_samples\n",
    "    return prior_probability\n",
    "\n",
    "train_data = create_train_data()\n",
    "prior_probability = compute_prior_probability(train_data)\n",
    "print(\"P(play tennis = No)\", prior_probability[0])\n",
    "print(\"P(play tennis = Yes)\", prior_probability[1])\n"
   ]
  },
  {
   "cell_type": "code",
   "execution_count": 78,
   "metadata": {},
   "outputs": [],
   "source": [
    "def compute_conditional_probability(train_data):\n",
    "    y_unique = ['no', 'yes']\n",
    "    conditional_probability = []\n",
    "    list_x_name = []\n",
    "\n",
    "    for i in range(train_data.shape[1] - 1):\n",
    "        x_unique = np.unique(train_data[:, i])\n",
    "        list_x_name.append(x_unique)\n",
    "        p_0 = []\n",
    "        p_1 = []\n",
    "        for idx,x  in enumerate(x_unique):\n",
    "           # print(x,'---',i, len(np.where((train_data[:,i]==x) & (train_data[:,-1]=='yes'))[0]))\n",
    "            p_1_x = len(np.where((train_data[:,i]==x) & (train_data[:,-1]=='yes'))[0])/len(np.where(train_data[:,-1]=='yes')[0])\n",
    "            p_0_x = len(np.where((train_data[:,i]==x) & (train_data[:,-1]=='no'))[0])/len(np.where(train_data[:,-1]=='no')[0])\n",
    "            p_0.append(p_0_x)\n",
    "            p_1.append(p_1_x)\n",
    "        conditional_probability.append([p_0, p_1])\n",
    "    #print(conditional_probability)\n",
    "    return conditional_probability, list_x_name\n",
    "#compute_conditional_probability(train_data)"
   ]
  },
  {
   "cell_type": "code",
   "execution_count": 79,
   "metadata": {},
   "outputs": [],
   "source": [
    "\n",
    "# train_data = create_train_data()\n",
    "# conditional_probability, list_x_name = compute_conditional_probability(train_data)\n",
    "\n",
    "# # Compute P(\"Outlook\" = \"Sunny\" | Play Tennis = \"Yes\")\n",
    "# x1 = get_index_from_value(\"Sunny\", list_x_name[0])\n",
    "# print(list_x_name[0],x1)\n",
    "# print(\"P('Outlook'='Sunny'|Play Tennis='Yes') = \", conditional_probability[0][1][x1])"
   ]
  },
  {
   "cell_type": "code",
   "execution_count": 80,
   "metadata": {},
   "outputs": [
    {
     "name": "stdout",
     "output_type": "stream",
     "text": [
      "x1 = ['Overcast' 'Rain' 'Sunny']\n",
      "x2 = ['Cool' 'Hot' 'Mild']\n",
      "x3 = ['High' 'Normal']\n",
      "x4 = ['Strong' 'Weak']\n"
     ]
    }
   ],
   "source": [
    "train_data = create_train_data()\n",
    "_, list_x_name = compute_conditional_probability(train_data)\n",
    "\n",
    "print(\"x1 =\", list_x_name[0])\n",
    "print(\"x2 =\", list_x_name[1])\n",
    "print(\"x3 =\", list_x_name[2])\n",
    "print(\"x4 =\", list_x_name[3])"
   ]
  },
  {
   "cell_type": "code",
   "execution_count": 81,
   "metadata": {},
   "outputs": [
    {
     "name": "stdout",
     "output_type": "stream",
     "text": [
      "0 1 2\n"
     ]
    }
   ],
   "source": [
    "import numpy as np\n",
    "\n",
    "def get_index_from_value(feature_name, list_features):\n",
    "    return np.where(list_features == feature_name)[0][0]\n",
    "\n",
    "train_data = create_train_data()\n",
    "_, list_x_name = compute_conditional_probability(train_data)\n",
    "outlook = list_x_name[0]\n",
    "\n",
    "i1 = get_index_from_value(\"Overcast\", outlook)\n",
    "i2 = get_index_from_value(\"Rain\", outlook)\n",
    "i3 = get_index_from_value(\"Sunny\", outlook)\n",
    "\n",
    "print(i1, i2, i3)\n"
   ]
  },
  {
   "cell_type": "code",
   "execution_count": 82,
   "metadata": {},
   "outputs": [
    {
     "name": "stdout",
     "output_type": "stream",
     "text": [
      "P('Outlook'='Sunny'|Play Tennis='Yes') =  0.17\n"
     ]
    }
   ],
   "source": [
    "\n",
    "train_data = create_train_data()\n",
    "conditional_probability, list_x_name = compute_conditional_probability(train_data)\n",
    "\n",
    "# Compute P(\"Outlook\" = \"Sunny\" | Play Tennis = \"Yes\")\n",
    "x1 = get_index_from_value(\"Sunny\", list_x_name[0])\n",
    "print(\"P('Outlook'='Sunny'|Play Tennis='Yes') = \", np.round(conditional_probability[0][1][x1], 2))\n"
   ]
  },
  {
   "cell_type": "code",
   "execution_count": 83,
   "metadata": {},
   "outputs": [
    {
     "name": "stdout",
     "output_type": "stream",
     "text": [
      "P('Outlook'='Sunny'|Play Tennis='Yes') =  0.5\n"
     ]
    }
   ],
   "source": [
    "\n",
    "train_data = create_train_data()\n",
    "conditional_probability, list_x_name = compute_conditional_probability(train_data)\n",
    "\n",
    "# Compute P(\"Outlook\" = \"Sunny\" | Play Tennis = \"Yes\")\n",
    "x1 = get_index_from_value(\"Sunny\", list_x_name[0])\n",
    "print(\"P('Outlook'='Sunny'|Play Tennis='Yes') = \", np.round(conditional_probability[0][0][x1], 2))\n"
   ]
  },
  {
   "cell_type": "code",
   "execution_count": 84,
   "metadata": {},
   "outputs": [
    {
     "data": {
      "text/plain": [
       "(array([0.4, 0.6]),\n",
       " [[[0.25, 0.25, 0.5], [0.3333333333333333, 0.5, 0.16666666666666666]],\n",
       "  [[0.25, 0.5, 0.25], [0.5, 0.16666666666666666, 0.3333333333333333]],\n",
       "  [[0.75, 0.25], [0.3333333333333333, 0.6666666666666666]],\n",
       "  [[0.5, 0.5], [0.16666666666666666, 0.8333333333333334]]],\n",
       " [array(['Overcast', 'Rain', 'Sunny'], dtype='<U8'),\n",
       "  array(['Cool', 'Hot', 'Mild'], dtype='<U8'),\n",
       "  array(['High', 'Normal'], dtype='<U8'),\n",
       "  array(['Strong', 'Weak'], dtype='<U8')])"
      ]
     },
     "execution_count": 84,
     "metadata": {},
     "output_type": "execute_result"
    }
   ],
   "source": [
    "def train_naive_bayes(train_data):\n",
    "    # Step 1: Calculate Prior Probability\n",
    "    y_unique = ['no', 'yes']\n",
    "    prior_probability = compute_prior_probability(train_data)\n",
    "\n",
    "    # Step 2: Calculate Conditional Probability\n",
    "    conditional_probability, list_x_name = compute_conditional_probability(train_data)\n",
    "\n",
    "    return prior_probability, conditional_probability, list_x_name\n",
    "\n",
    "train_naive_bayes(train_data)"
   ]
  },
  {
   "cell_type": "code",
   "execution_count": 85,
   "metadata": {},
   "outputs": [
    {
     "name": "stdout",
     "output_type": "stream",
     "text": [
      "Ad should go!\n"
     ]
    }
   ],
   "source": [
    "def prediction_play_tennis(X, list_x_name, prior_probability, conditional_probability):\n",
    "    # Get the index of each feature value\n",
    "    x1 = get_index_from_value(X[0], list_x_name[0])\n",
    "    x2 = get_index_from_value(X[1], list_x_name[1])\n",
    "    x3 = get_index_from_value(X[2], list_x_name[2])\n",
    "    x4 = get_index_from_value(X[3], list_x_name[3])\n",
    "    day_feature = [x1,x2,x3,x4]\n",
    "    # Initialize probabilities for each class\n",
    "    p0 = prior_probability[0]\n",
    "    p1 = prior_probability[1]\n",
    "    for col, feature in enumerate(day_feature):\n",
    "        p0 *= conditional_probability[col][0][feature]\n",
    "        p1 *= conditional_probability[col][1][feature]\n",
    "    if p0>=p1:\n",
    "        return 'yes'\n",
    "    else:\n",
    "        return 'no'\n",
    "    \n",
    "# Define the input features\n",
    "X = ['Sunny', 'Cool', 'High', 'Strong']\n",
    "\n",
    "# Create the training data\n",
    "data = create_train_data()\n",
    "\n",
    "# Train the Naive Bayes model\n",
    "prior_probability, conditional_probability, list_x_name = train_naive_bayes(data)\n",
    "\n",
    "# Predict the class label for the input features\n",
    "pred = prediction_play_tennis(X, list_x_name, prior_probability, conditional_probability)\n",
    "\n",
    "# Print the prediction result\n",
    "if pred == 'yes':\n",
    "    print(\"Ad should go!\")\n",
    "else:\n",
    "    print(\"Ad should not go!\")\n"
   ]
  },
  {
   "cell_type": "code",
   "execution_count": null,
   "metadata": {},
   "outputs": [],
   "source": []
  }
 ],
 "metadata": {
  "kernelspec": {
   "display_name": "test",
   "language": "python",
   "name": "python3"
  },
  "language_info": {
   "codemirror_mode": {
    "name": "ipython",
    "version": 3
   },
   "file_extension": ".py",
   "mimetype": "text/x-python",
   "name": "python",
   "nbconvert_exporter": "python",
   "pygments_lexer": "ipython3",
   "version": "3.9.18"
  }
 },
 "nbformat": 4,
 "nbformat_minor": 2
}
