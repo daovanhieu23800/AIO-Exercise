{
 "cells": [
  {
   "cell_type": "code",
   "execution_count": 1,
   "metadata": {},
   "outputs": [],
   "source": [
    "import numpy as np\n",
    "import pandas as pd "
   ]
  },
  {
   "cell_type": "code",
   "execution_count": 4,
   "metadata": {},
   "outputs": [
    {
     "data": {
      "text/plain": [
       "1.8"
      ]
     },
     "execution_count": 4,
     "metadata": {},
     "output_type": "execute_result"
    }
   ],
   "source": [
    "def compute_mean(value_list):\n",
    "    mean = sum(value_list)/len(value_list)\n",
    "    return mean\n",
    "\n",
    "compute_mean([2,0,2,2,7,4,-2,5,-1,-1])"
   ]
  },
  {
   "cell_type": "code",
   "execution_count": 16,
   "metadata": {},
   "outputs": [
    {
     "name": "stdout",
     "output_type": "stream",
     "text": [
      "[1, 4, 4, 5, 9, 13, 13] 4 5 3\n"
     ]
    },
    {
     "data": {
      "text/plain": [
       "5"
      ]
     },
     "execution_count": 16,
     "metadata": {},
     "output_type": "execute_result"
    }
   ],
   "source": [
    "def compute_median(value_list):\n",
    "    n = len(value_list)\n",
    "    sorted_list = sorted(value_list)\n",
    "    #print(sorted_list, sorted_list[n//2-1], sorted_list[n//2], n//2)\n",
    "    if n % 2 == 0:\n",
    "        return (sorted_list[n//2-1]+sorted_list[n//2])/2\n",
    "    else:\n",
    "        return sorted_list[(n+1)//2-1]\n",
    "\n",
    "compute_median([1,5,4,4,9,13, 13])"
   ]
  },
  {
   "cell_type": "code",
   "execution_count": 18,
   "metadata": {},
   "outputs": [
    {
     "data": {
      "text/plain": [
       "8.32666399786453"
      ]
     },
     "execution_count": 18,
     "metadata": {},
     "output_type": "execute_result"
    }
   ],
   "source": [
    "def compute_std(value_list):\n",
    "    n = len(value_list)\n",
    "    mean = compute_mean(value_list)\n",
    "    var = 0\n",
    "    for i in value_list:\n",
    "        var += (mean-i)**2\n",
    "    var /= n\n",
    "    std = np.sqrt(var)\n",
    "    return std\n",
    "\n",
    "compute_std([171,176,155,167,169,182])"
   ]
  },
  {
   "cell_type": "code",
   "execution_count": 21,
   "metadata": {},
   "outputs": [
    {
     "name": "stdout",
     "output_type": "stream",
     "text": [
      "Correlation: 0.42\n"
     ]
    }
   ],
   "source": [
    "import numpy as np\n",
    "\n",
    "def compute_correlation_coefficient(X, Y):\n",
    "    n = len(X)\n",
    "\n",
    "    x_mean, y_mean = compute_mean(X), compute_mean(Y)\n",
    "    numerator = compute_mean((X-x_mean)*(Y-y_mean))\n",
    "    denominator = compute_std(X)*compute_std(Y)\n",
    "    return np.round(numerator/denominator, 2)\n",
    "\n",
    "X = np.asarray([-2, -5, -11, 6, 4, 15, 9])\n",
    "Y = np.asarray([4, 25, 121, 36, 16, 225, 81])\n",
    "\n",
    "print(\"Correlation:\", compute_correlation_coefficient(X, Y))\n"
   ]
  },
  {
   "cell_type": "code",
   "execution_count": 23,
   "metadata": {},
   "outputs": [
    {
     "name": "stdout",
     "output_type": "stream",
     "text": [
      "Correlation between TV and Radio: 0.05\n"
     ]
    }
   ],
   "source": [
    "data = pd.read_csv(\"advertising.csv\")\n",
    "# Example usage:\n",
    "x = data['TV']\n",
    "y = data['Radio']\n",
    "corr_xy = compute_correlation_coefficient(x, y)\n",
    "print(f\"Correlation between TV and Radio: {round(corr_xy, 2)}\")"
   ]
  },
  {
   "cell_type": "code",
   "execution_count": 25,
   "metadata": {},
   "outputs": [
    {
     "name": "stdout",
     "output_type": "stream",
     "text": [
      "Correlation between TV and TV: 1.0\n",
      "Correlation between TV and Radio: 0.05\n",
      "Correlation between TV and Newspaper: 0.06\n",
      "Correlation between Radio and TV: 0.05\n",
      "Correlation between Radio and Radio: 1.0\n",
      "Correlation between Radio and Newspaper: 0.35\n",
      "Correlation between Newspaper and TV: 0.06\n",
      "Correlation between Newspaper and Radio: 0.35\n",
      "Correlation between Newspaper and Newspaper: 1.0\n"
     ]
    }
   ],
   "source": []
  },
  {
   "cell_type": "code",
   "execution_count": null,
   "metadata": {},
   "outputs": [],
   "source": []
  }
 ],
 "metadata": {
  "kernelspec": {
   "display_name": "test",
   "language": "python",
   "name": "python3"
  },
  "language_info": {
   "codemirror_mode": {
    "name": "ipython",
    "version": 3
   },
   "file_extension": ".py",
   "mimetype": "text/x-python",
   "name": "python",
   "nbconvert_exporter": "python",
   "pygments_lexer": "ipython3",
   "version": "3.9.18"
  }
 },
 "nbformat": 4,
 "nbformat_minor": 2
}
