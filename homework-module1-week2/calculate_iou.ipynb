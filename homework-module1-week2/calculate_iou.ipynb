{
 "cells": [
  {
   "cell_type": "code",
   "execution_count": 24,
   "metadata": {},
   "outputs": [],
   "source": [
    "def calculate_IOU(x1:int,y1:int,x2:int,y2:int,x3:int,y3:int,x4:int,y4:int) -> float:\n",
    "    \"\"\"Calculate IOU between 2 bounding box A(x1,y1), (x2,y2), B (x3,y3), (x4,y4)\"\"\"\n",
    "\n",
    "    result = 0\n",
    "    A_area = abs(x2-x1) * abs(y2-y1)\n",
    "    B_area = abs(x4-x3) * abs(y4-y3)\n",
    "\n",
    "    intersect_x1 = max(x3,x1)\n",
    "    intersect_x2 = min(x4,x2)\n",
    "\n",
    "    intersect_y1 = max(x3,x1)\n",
    "    intersect_y2 = min(x4,x2)\n",
    "\n",
    "    intersect_area = abs(intersect_x2-intersect_x1) * abs(intersect_y2-intersect_y1)\n",
    "\n",
    "    union_area = A_area + B_area - intersect_area\n",
    "\n",
    "    result = intersect_area / union_area\n",
    "    print(A_area, B_area, intersect_area )\n",
    "    return result"
   ]
  },
  {
   "cell_type": "code",
   "execution_count": 25,
   "metadata": {},
   "outputs": [],
   "source": [
    "from PIL import Image, ImageDraw\n",
    "\n",
    "# Create a white image\n",
    "image_size = (50, 50)\n",
    "white_image = Image.new(\"L\", image_size, \"white\")\n",
    "bounding_box = [(10,10, 20, 20), (15,15, 25, 25)]\n",
    "draw = ImageDraw.Draw(white_image)\n",
    "\n",
    "for i in range(2):\n",
    "    draw.rectangle(bounding_box[i], outline='black')\n",
    "\n",
    "white_image.save('../content/white_image_with_bounding_box.png')\n"
   ]
  },
  {
   "cell_type": "code",
   "execution_count": 26,
   "metadata": {},
   "outputs": [
    {
     "name": "stdout",
     "output_type": "stream",
     "text": [
      "100 100 25\n",
      "0.14285714285714285\n"
     ]
    }
   ],
   "source": [
    "print(calculate_IOU(bounding_box[0][0],bounding_box[0][1],bounding_box[0][2],bounding_box[0][3],bounding_box[1][0],bounding_box[1][1],bounding_box[1][2],bounding_box[1][3]))"
   ]
  },
  {
   "cell_type": "code",
   "execution_count": null,
   "metadata": {},
   "outputs": [],
   "source": []
  }
 ],
 "metadata": {
  "kernelspec": {
   "display_name": "test",
   "language": "python",
   "name": "python3"
  },
  "language_info": {
   "codemirror_mode": {
    "name": "ipython",
    "version": 3
   },
   "file_extension": ".py",
   "mimetype": "text/x-python",
   "name": "python",
   "nbconvert_exporter": "python",
   "pygments_lexer": "ipython3",
   "version": "3.9.18"
  }
 },
 "nbformat": 4,
 "nbformat_minor": 2
}
