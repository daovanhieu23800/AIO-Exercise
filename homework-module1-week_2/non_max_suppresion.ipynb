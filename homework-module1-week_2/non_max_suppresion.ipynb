{
 "cells": [
  {
   "cell_type": "code",
   "execution_count": null,
   "metadata": {},
   "outputs": [],
   "source": []
  },
  {
   "cell_type": "code",
   "execution_count": 14,
   "metadata": {},
   "outputs": [],
   "source": [
    "def calculate_IOU(A_box:tuple, B_box:tuple) -> float:\n",
    "    \"\"\"Calculate IOU between 2 bounding box A(x1,y1), (x2,y2), B (x3,y3), (x4,y4)\"\"\"\n",
    "\n",
    "    x1, y1, x2, y2, _ = A_box\n",
    "    x3, y3, x4, y4, _ = B_box\n",
    "\n",
    "    result = 0\n",
    "    A_area = abs(x2-x1) * abs(y2-y1)\n",
    "    B_area = abs(x4-x3) * abs(y4-y3)\n",
    "\n",
    "    intersect_x1 = max(x3,x1)\n",
    "    intersect_x2 = min(x4,x2)\n",
    "\n",
    "    intersect_y1 = max(x3,x1)\n",
    "    intersect_y2 = min(x4,x2)\n",
    "\n",
    "    intersect_area = abs(intersect_x2-intersect_x1) * abs(intersect_y2-intersect_y1)\n",
    "\n",
    "    union_area = A_area + B_area - intersect_area\n",
    "\n",
    "    result = intersect_area / union_area\n",
    "    # print(A_area, B_area, intersect_area )\n",
    "    return result"
   ]
  },
  {
   "cell_type": "code",
   "execution_count": 15,
   "metadata": {},
   "outputs": [],
   "source": [
    "def nms(bounding_boxes:list, iou_threshold = 0.3)->list[tuple]:\n",
    "    result = []\n",
    "    bounding_boxes_sorted = sorted(bounding_boxes, reverse=True, key = lambda x: x[4])\n",
    "    first_box = bounding_boxes_sorted.pop(0)\n",
    "    result.append(first_box)\n",
    "    while len(bounding_boxes_sorted) > 0:\n",
    "        iou = calculate_IOU(first_box, bounding_boxes_sorted[0])\n",
    "        if iou > iou_threshold:\n",
    "            bounding_boxes_sorted.pop(0)\n",
    "        else:\n",
    "            next_box = bounding_boxes_sorted.pop(0)\n",
    "            result.append(next_box)\n",
    "\n",
    "    return result"
   ]
  },
  {
   "cell_type": "code",
   "execution_count": 16,
   "metadata": {},
   "outputs": [
    {
     "name": "stdout",
     "output_type": "stream",
     "text": [
      "16384 16384 16384\n",
      "16384 16384 13456\n",
      "16384 16384 13456\n",
      "16384 16384 16384\n",
      "16384 16384 13456\n",
      "[(24, 108, 152, 236, 0.8)]\n"
     ]
    }
   ],
   "source": [
    "boundingBoxes = [\n",
    "\t(12, 84, 140, 212, 0.3),\n",
    "\t(24, 84, 152, 212, 0.4),\n",
    "\t(36, 84, 164, 212, 0.5),\n",
    "\t(12, 96, 140, 224, 0.6),\n",
    "\t(24, 96, 152, 224, 0.7),\n",
    "\t(24, 108, 152, 236, 0.8)]\n",
    "print(nms(boundingBoxes))"
   ]
  },
  {
   "cell_type": "code",
   "execution_count": 17,
   "metadata": {},
   "outputs": [
    {
     "data": {
      "text/plain": [
       "True"
      ]
     },
     "execution_count": 17,
     "metadata": {},
     "output_type": "execute_result"
    }
   ],
   "source": [
    "# import the necessary packages\n",
    "import numpy as np\n",
    "import cv2\n",
    "\n",
    "boundingBoxes = [\n",
    "\t(12, 84, 140, 212, 0.3),\n",
    "\t(24, 84, 152, 212, 0.4),\n",
    "\t(36, 84, 164, 212, 0.5),\n",
    "\t(12, 96, 140, 224, 0.6),\n",
    "\t(24, 96, 152, 224, 0.7),\n",
    "\t(24, 108, 152, 236, 0.8)]\n",
    "\n",
    "# load the image and clone it\n",
    "image = cv2.imread(\"../content/cat_nms.png\")\n",
    "orig = image.copy()\n",
    "# loop over the bounding boxes for each image and draw them\n",
    "for (startX, startY, endX, endY, confidence) in boundingBoxes:\n",
    "\tcv2.rectangle(orig, (int(startX), int(startY)), (int(endX), int(endY)), (0, 0, 255), 2)\n",
    "cv2.imwrite('../content/cat_before_nms.png',orig)\n"
   ]
  },
  {
   "cell_type": "code",
   "execution_count": 18,
   "metadata": {},
   "outputs": [
    {
     "name": "stdout",
     "output_type": "stream",
     "text": [
      "16384 16384 16384\n",
      "16384 16384 13456\n",
      "16384 16384 13456\n",
      "16384 16384 16384\n",
      "16384 16384 13456\n"
     ]
    },
    {
     "data": {
      "text/plain": [
       "True"
      ]
     },
     "execution_count": 18,
     "metadata": {},
     "output_type": "execute_result"
    }
   ],
   "source": [
    "result = nms(boundingBoxes)\n",
    "orig = image.copy()\n",
    "for (startX, startY, endX, endY, confidence) in result:\n",
    "\tcv2.rectangle(orig, (int(startX), int(startY)), (int(endX), int(endY)), (0, 0, 255), 2)\n",
    "cv2.imwrite('../content/cat_after_nms.png',orig)"
   ]
  }
 ],
 "metadata": {
  "kernelspec": {
   "display_name": "test",
   "language": "python",
   "name": "python3"
  },
  "language_info": {
   "codemirror_mode": {
    "name": "ipython",
    "version": 3
   },
   "file_extension": ".py",
   "mimetype": "text/x-python",
   "name": "python",
   "nbconvert_exporter": "python",
   "pygments_lexer": "ipython3",
   "version": "3.9.18"
  }
 },
 "nbformat": 4,
 "nbformat_minor": 2
}
